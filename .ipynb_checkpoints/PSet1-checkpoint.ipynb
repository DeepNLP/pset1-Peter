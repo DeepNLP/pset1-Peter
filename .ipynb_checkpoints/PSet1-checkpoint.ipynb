{
 "cells": [
  {
   "cell_type": "markdown",
   "metadata": {},
   "source": [
    "# CS 224D: Assignment #1"
   ]
  },
  {
   "cell_type": "markdown",
   "metadata": {},
   "source": [
    "# 1 - Softmax"
   ]
  },
  {
   "cell_type": "markdown",
   "metadata": {},
   "source": [
    "#### a - Prove that the softmax is invariant to constant offsets in the input, that is, for any input vector $x$ and any constant $c$, \n",
    "$softmax(x) = softmax(x + c)$\n",
    "when $x + c$ means adding the constant $c$ to every dimension of $x$. Remember that: \n",
    "\n",
    "$softmax(x)_i = \\frac{e^{x_i}}{\\sum_je^{x_j}}$"
   ]
  },
  {
   "cell_type": "markdown",
   "metadata": {},
   "source": [
    "a - anwer: Adding a constant $c$ changes both the numerator and the denominator the same way, which does not affect the result after division. "
   ]
  },
  {
   "cell_type": "markdown",
   "metadata": {},
   "source": [
    "It is usually computationnaly difficult to compute sums of exponentials with low arguments. Hence, we will use this property to normalize the arguments  and set $c = -max_i x_i$, ie that we substract the maximum element from all elements of $x$."
   ]
  },
  {
   "cell_type": "markdown",
   "metadata": {},
   "source": [
    "#### b - Given an input matrix of N rows and d columns, compute the softmax predictions for each row. Write your implementation in q1_softmax.py. You may test by executing python q1_softmax.py"
   ]
  },
  {
   "cell_type": "code",
   "execution_count": 1,
   "metadata": {
    "collapsed": true
   },
   "outputs": [],
   "source": [
    "import numpy as np\n",
    "import random"
   ]
  },
  {
   "cell_type": "code",
   "execution_count": 2,
   "metadata": {
    "collapsed": true
   },
   "outputs": [],
   "source": [
    "def softmax(x):\n",
    "    \"\"\"\n",
    "    Compute the softmax function for each row of the input x.\n",
    "\n",
    "    It is crucial that this function is optimized for speed because\n",
    "    it will be used frequently in later code.\n",
    "    You might find numpy functions np.exp, np.sum, np.reshape,\n",
    "    np.max, and numpy broadcasting useful for this task. (numpy\n",
    "    broadcasting documentation:\n",
    "    http://docs.scipy.org/doc/numpy/user/basics.broadcasting.html)\n",
    "\n",
    "    You should also make sure that your code works for one\n",
    "    dimensional inputs (treat the vector as a row), you might find\n",
    "    it helpful for your later problems.\n",
    "\n",
    "    You must implement the optimization in problem 1(a) of the \n",
    "    written assignment!\n",
    "    \"\"\"\n",
    "    \n",
    "    \"\"\"\n",
    "    Moreover, to be as general as possible, we suppose that x is a 2D array, \n",
    "    N rows and d columns\n",
    "    \"\"\"\n",
    "    \n",
    "    \"\"\"\n",
    "    Remark: we must also consider the specific case where N = 1\n",
    "    \"\"\"\n",
    "\n",
    "    ### YOUR CODE HERE\n",
    "    \n",
    "    # Case N > 1\n",
    "    if len(x.shape) > 1:\n",
    "        \n",
    "        ## normalization part\n",
    "\n",
    "        # First define the column containing the max of each row in x\n",
    "        max_row = x.max(axis = 1).reshape((x.shape[0], 1))\n",
    "        # Then remove this max to the dataset\n",
    "        x -= max_row\n",
    "\n",
    "        ## computation of softmax\n",
    "\n",
    "        x = np.exp(x)\n",
    "        denominator = x.sum(axis = 1).reshape(x.shape[0], 1)\n",
    "        x /= denominator\n",
    "        \n",
    "    else:\n",
    "        \n",
    "        ## normalization part\n",
    "        \n",
    "        max_row = x.max()\n",
    "        x -= max_row\n",
    "        x = np.exp(x)\n",
    "        denominator = x.sum()\n",
    "        x /= denominator\n",
    "    \n",
    "    ### END YOUR CODE\n",
    "    \n",
    "    return x"
   ]
  },
  {
   "cell_type": "code",
   "execution_count": 4,
   "metadata": {
    "collapsed": false
   },
   "outputs": [
    {
     "data": {
      "text/plain": [
       "array([ 0.26894142,  0.73105858])"
      ]
     },
     "execution_count": 4,
     "metadata": {},
     "output_type": "execute_result"
    }
   ],
   "source": [
    "# Toy example\n",
    "softmax(np.array([1,2]))"
   ]
  },
  {
   "cell_type": "markdown",
   "metadata": {},
   "source": [
    "Now let's test this function"
   ]
  },
  {
   "cell_type": "code",
   "execution_count": 6,
   "metadata": {
    "collapsed": false
   },
   "outputs": [
    {
     "name": "stdout",
     "output_type": "stream",
     "text": [
      "Running basic tests...\n",
      "[ 0.26894142  0.73105858]\n",
      "[[ 0.26894142  0.73105858]\n",
      " [ 0.26894142  0.73105858]]\n",
      "[[ 0.73105858  0.26894142]]\n",
      "You should verify these results!\n",
      "\n"
     ]
    }
   ],
   "source": [
    "def test_softmax_basic():\n",
    "    \"\"\"\n",
    "    Some simple tests to get you started. \n",
    "    Warning: these are not exhaustive.\n",
    "    \"\"\"\n",
    "    print(\"Running basic tests...\")\n",
    "    test1 = softmax(np.array([1,2]))\n",
    "    print(test1)\n",
    "    assert np.amax(np.fabs(test1 - np.array(\n",
    "        [0.26894142,  0.73105858]))) <= 1e-6\n",
    "\n",
    "    test2 = softmax(np.array([[1001,1002],[3,4]]))\n",
    "    print(test2)\n",
    "    assert np.amax(np.fabs(test2 - np.array(\n",
    "        [[0.26894142, 0.73105858], [0.26894142, 0.73105858]]))) <= 1e-6\n",
    "\n",
    "    test3 = softmax(np.array([[-1001,-1002]]))\n",
    "    print(test3)\n",
    "    assert np.amax(np.fabs(test3 - np.array(\n",
    "        [0.73105858, 0.26894142]))) <= 1e-6\n",
    "\n",
    "    print(\"You should verify these results!\\n\")\n",
    "test_softmax_basic()"
   ]
  },
  {
   "cell_type": "markdown",
   "metadata": {
    "collapsed": false
   },
   "source": [
    "## 2 - Neural Network Basics"
   ]
  },
  {
   "cell_type": "markdown",
   "metadata": {
    "collapsed": false
   },
   "source": [
    "#### a - Derive the gradients of the sigmoid function and show that it can be rewritten as a function of the function value (ie in some expression where only $\\sigma (x)$, but not $x$, ispresent). Assume that the input $x$ is a sclarar for this question. Recall, the sigmoid function is: \n",
    "\n",
    "$\\sigma (x) = \\frac{1}{1 + e^{-x}}$"
   ]
  },
  {
   "cell_type": "markdown",
   "metadata": {
    "collapsed": false
   },
   "source": [
    "a - Answer: let's compute the gradient of $\\sigma$: \n",
    "\n",
    "$\\sigma'(x) = \\frac{e^{-x}}{(1 + e^{-x})^2} = \\sigma(x)(1 - \\sigma(x))$"
   ]
  },
  {
   "cell_type": "markdown",
   "metadata": {
    "collapsed": true
   },
   "source": [
    "#### b - Derive the gradient with regard to the inputs of a softmax function when cross entropy loss is used for evaluation, ie find the gradients with respect to the softmax input vector $\\theta$, when the prediction is made by $\\widehat y = softmax(\\theta)$. Remember the cross entropy function is: \n",
    "\n",
    "$CE(y, \\widehat y) = -\\sum_iy_ilog(\\widehat y_i)$ \n",
    "\n",
    "where $y$ is the one-hot label vector, and $\\widehat y$ is the predicted probability vector for all classes (Hint: you might want to consider the fact many elements of $y$ are zeros, and assume that only the $k$-th dimension of $y$ is one)."
   ]
  },
  {
   "cell_type": "markdown",
   "metadata": {},
   "source": [
    "b - Answer: As proposed, let's assume that the only non-zero value for $y$ is for the $k$-th element. We have then: \n",
    "\n",
    "$CE(y, \\widehat y) = -log(\\widehat y_k) = -log(softmax(\\theta)_k) = -log(\\frac{e^{\\theta_k}}{\\sum_i e^{\\theta_i}}) = -\\theta_k + log(\\sum_i e^{\\theta_i})$\n",
    "\n",
    "Now, let's differentiate this result w.r.t. $\\theta_j$ for a certain $j$-th coordinate of $\\theta$.\n",
    "\n",
    "We have: \n",
    "\n",
    "$\\frac{\\partial CE(y, \\widehat y)}{\\partial \\theta_j} = -1 + \\frac{e^{\\theta_j}}{\\sum_i e^{\\theta_i}}$ if $j = k$ and \n",
    "\n",
    "$\\frac{\\partial CE(y, \\widehat y)}{\\partial \\theta_j} = \\frac{e^{\\theta_j}}{\\sum_i e^{\\theta_i}}$ if $j \\neq k$\n",
    "\n",
    "We can rewrite this result as: \n",
    "\n",
    "$\\frac{\\partial CE(y, \\widehat y)}{\\partial \\theta} = \\widehat y - y$"
   ]
  },
  {
   "cell_type": "markdown",
   "metadata": {},
   "source": [
    "#### c - Derive the gradients w.r.t. the inputs $x$ to an one-hidden-layer neural network (that is, find $\\frac{\\partial J}{\\partial x}$ where $J$ is the cost function for the neural network). The neural network employs sigmoid activation function for the hidden layer, and softmax for the outpu layer. Assume the one-hot label vector is $y$, and cross-entropy cost is used. Feel free to use $\\sigma'(x)$ as the shorthand for sigmoid gradient, and feel free to define any variables whenever you see fit.\n",
    "\n",
    "Recall tha the forward propagation is as follows: \n",
    "\n",
    "$h = sigmoid(xW_1 + b_1)$\n",
    "\n",
    "$\\widehat y = softmax(hW_2 + b_2)$\n",
    "\n",
    "Note that here we're assuming that the input vector (this the hidden variables and output probabilities) is a row vector to be consistent with the programming assignment. When we apply the sigmoid function to a vector, we are applying it to each of the elements of that vector. $W_i$ and $b_i$ ($i = 1, 2$) are the weights and biases, respectively, of the two layers."
   ]
  },
  {
   "cell_type": "markdown",
   "metadata": {},
   "source": [
    "c - Answer:\n",
    "\n",
    "Let's write $\\theta = hW_2 + b_2$\n",
    "\n",
    "We know from Part1 that: \n",
    "\n",
    "$\\frac{\\partial J}{\\partial \\theta} = \\widehat y - y$\n",
    "\n",
    "Then, using the chain rule, we have: \n",
    "\n",
    "$\\frac{\\partial J}{\\partial h} = \\frac{\\partial J}{\\partial \\theta} \\frac{\\partial \\theta}{\\partial h} = (\\widehat y - y)W_2^T$\n",
    "\n",
    "Therefore, still using the chain rule, we obtain: \n",
    "\n",
    "$\\frac{\\partial J}{\\partial x} = \\frac{\\partial J}{\\partial h} \\frac{\\partial h}{\\partial x} = (\\widehat y - y)W_2^TW_1^T$\n"
   ]
  },
  {
   "cell_type": "markdown",
   "metadata": {},
   "source": [
    "#### d - How many parameters are there in this neural network, assuming the input is $D_x$-dimensional, the output is $D_y$-dimensional, and theere are $H$ hidden units?"
   ]
  },
  {
   "cell_type": "markdown",
   "metadata": {},
   "source": [
    "d - Answer: \n",
    "\n",
    "In $W_1$ we have $D_x . H$ corefficients, in $W_2$ we have $H . D_y$ coefficients. Then, $b_1$ contains $H$ elements and $b_2$ contains $D_y$ elements.\n",
    "\n",
    "Hence, the total number of parameters used in this neural network is: \n",
    "\n",
    "$\\#_{parameters} = (D_x + 1) . H + (H + 1) . D_y$"
   ]
  },
  {
   "cell_type": "markdown",
   "metadata": {},
   "source": [
    "#### e - Fill in the implementation for the sigmoid implementation and its gradient in q2_sigmoid.py. Test your implementation using python q2_sigmoid.py. Again, thoroughly test your codes as the provided tests may not be exhaustive."
   ]
  },
  {
   "cell_type": "code",
   "execution_count": 12,
   "metadata": {
    "collapsed": true
   },
   "outputs": [],
   "source": [
    "def sigmoid(x):\n",
    "    \"\"\"\n",
    "    Compute the sigmoid function for the input here.\n",
    "    \"\"\"\n",
    "    \n",
    "    ### YOUR CODE HERE\n",
    "    x = 1 / (1 + np.exp(-x))\n",
    "    ### END YOUR CODE\n",
    "    \n",
    "    return x\n",
    "\n",
    "def sigmoid_grad(f):\n",
    "    \"\"\"\n",
    "    Compute the gradient for the sigmoid function here. Note that\n",
    "    for this implementation, the input f should be the sigmoid\n",
    "    function value of your original input x. \n",
    "    \"\"\"\n",
    "    \n",
    "    ### YOUR CODE HERE\n",
    "    f = f*(1 - f)\n",
    "    ### END YOUR CODE\n",
    "    \n",
    "    return f\n"
   ]
  },
  {
   "cell_type": "code",
   "execution_count": 11,
   "metadata": {
    "collapsed": false
   },
   "outputs": [
    {
     "data": {
      "text/plain": [
       "array([[ 0.73105858,  0.88079708],\n",
       "       [ 0.99966465,  0.5       ]])"
      ]
     },
     "execution_count": 11,
     "metadata": {},
     "output_type": "execute_result"
    }
   ],
   "source": [
    "x = np.array([[1, 2], [8, 0]])\n",
    "1 / (1 + np.exp(-x))"
   ]
  },
  {
   "cell_type": "markdown",
   "metadata": {},
   "source": [
    "Let's test these functions"
   ]
  },
  {
   "cell_type": "code",
   "execution_count": 15,
   "metadata": {
    "collapsed": false
   },
   "outputs": [
    {
     "name": "stdout",
     "output_type": "stream",
     "text": [
      "Running basic tests...\n",
      "[[ 0.73105858  0.88079708]\n",
      " [ 0.26894142  0.11920292]]\n",
      "[[ 0.19661193  0.10499359]\n",
      " [ 0.19661193  0.10499359]]\n",
      "You should verify these results!\n",
      "\n"
     ]
    }
   ],
   "source": [
    "def test_sigmoid_basic():\n",
    "    \"\"\"\n",
    "    Some simple tests to get you started. \n",
    "    Warning: these are not exhaustive.\n",
    "    \"\"\"\n",
    "    print(\"Running basic tests...\")\n",
    "    x = np.array([[1, 2], [-1, -2]])\n",
    "    f = sigmoid(x)\n",
    "    g = sigmoid_grad(f)\n",
    "    print(f)\n",
    "    assert np.amax(f - np.array([[0.73105858, 0.88079708], \n",
    "        [0.26894142, 0.11920292]])) <= 1e-6\n",
    "    print(g)\n",
    "    assert np.amax(g - np.array([[0.19661193, 0.10499359],\n",
    "        [0.19661193, 0.10499359]])) <= 1e-6\n",
    "    print(\"You should verify these results!\\n\")\n",
    "test_sigmoid_basic()"
   ]
  },
  {
   "cell_type": "markdown",
   "metadata": {},
   "source": [
    "#### f - To make debugging easier, we will now implement a gradient checker. Fill in the implementation for gradchecker_naive in q2_gradcheck.py. Test your code using python q2_gradcheck.py."
   ]
  },
  {
   "cell_type": "code",
   "execution_count": 21,
   "metadata": {
    "collapsed": true
   },
   "outputs": [],
   "source": [
    "# First implement a gradient checker by filling in the following functions\n",
    "def gradcheck_naive(f, x):\n",
    "    \"\"\" \n",
    "    Gradient check for a function f \n",
    "    - f should be a function that takes a single argument and outputs the cost and its gradients\n",
    "    - x is the point (numpy array) to check the gradient at\n",
    "    \"\"\" \n",
    "\n",
    "    rndstate = random.getstate()\n",
    "    random.setstate(rndstate)  \n",
    "    fx, grad = f(x) # Evaluate function value at original point\n",
    "    h = 1e-4\n",
    "\n",
    "    # Iterate over all indexes in x\n",
    "    it = np.nditer(x, flags=['multi_index'], op_flags=['readwrite'])\n",
    "    while not it.finished:\n",
    "        ix = it.multi_index\n",
    "\n",
    "        ### try modifying x[ix] with h defined above to compute numerical gradients\n",
    "        ### make sure you call random.setstate(rndstate) before calling f(x) each time, this will make it \n",
    "        ### possible to test cost functions with built in randomness later\n",
    "        \n",
    "        ### YOUR CODE HERE:\n",
    "        \n",
    "        x[ix] += h # Go to a h-step forward\n",
    "        random.setstate(rndstate)  \n",
    "        fxh, _ = f(x) # evaluate f on x + h\n",
    "        x[ix] -= 2 * h  # Go to a h-step backward compared to initial x\n",
    "        random.setstate(rndstate)  \n",
    "        fxnh, _ = f(x) # Evaluate f on x - h\n",
    "        x[ix] += h\n",
    "        numgrad = (fxh - fxnh) / 2 / h # Evaluate the gradient as the tangent at the initial point x\n",
    "        \n",
    "        ### END YOUR CODE\n",
    "        \n",
    "                \n",
    "        # Compare gradients\n",
    "        reldiff = abs(numgrad - grad[ix]) / max(1, abs(numgrad), abs(grad[ix]))\n",
    "        if reldiff > 1e-5:\n",
    "            print(\"Gradient check failed.\")\n",
    "            print(\"First gradient error found at index %s\" % str(ix))\n",
    "            print(\"Your gradient: %f \\t Numerical gradient: %f\" % (grad[ix], numgrad))\n",
    "            return\n",
    "    \n",
    "        it.iternext() # Step to next dimension\n",
    "\n",
    "    print(\"Gradient check passed!\")"
   ]
  },
  {
   "cell_type": "markdown",
   "metadata": {},
   "source": [
    "Let's use the sanity check"
   ]
  },
  {
   "cell_type": "code",
   "execution_count": 23,
   "metadata": {
    "collapsed": false
   },
   "outputs": [
    {
     "name": "stdout",
     "output_type": "stream",
     "text": [
      "Running sanity checks...\n",
      "Gradient check passed!\n",
      "Gradient check passed!\n",
      "Gradient check passed!\n",
      "\n"
     ]
    }
   ],
   "source": [
    "def sanity_check():\n",
    "    \"\"\"\n",
    "    Some basic sanity checks.\n",
    "    \"\"\"\n",
    "    quad = lambda x: (np.sum(x ** 2), x * 2)\n",
    "\n",
    "    print(\"Running sanity checks...\")\n",
    "    gradcheck_naive(quad, np.array(123.456))      # scalar test\n",
    "    gradcheck_naive(quad, np.random.randn(3,))    # 1-D test\n",
    "    gradcheck_naive(quad, np.random.randn(4,5))   # 2-D test\n",
    "    print(\"\")\n",
    "sanity_check()"
   ]
  },
  {
   "cell_type": "markdown",
   "metadata": {},
   "source": [
    "#### g - Now, implement the forward and backward passes for neural network with one sigmoid hidden layer. Fill in your imlementation in q2_neural.py. Sanity check your implementation with q2_neural.py."
   ]
  },
  {
   "cell_type": "code",
   "execution_count": 31,
   "metadata": {
    "collapsed": false
   },
   "outputs": [],
   "source": [
    "from q1_softmax import softmax\n",
    "from q2_sigmoid import sigmoid, sigmoid_grad\n",
    "from q2_gradcheck import gradcheck_naive\n",
    "\n",
    "def forward_backward_prop(data, labels, params, dimensions):\n",
    "    \"\"\" \n",
    "    Forward and backward propagation for a two-layer sigmoidal network \n",
    "    \n",
    "    Compute the forward propagation and for the cross entropy cost,\n",
    "    and backward propagation for the gradients for all parameters.\n",
    "    \"\"\"\n",
    "\n",
    "    ### Unpack network parameters (do not modify)\n",
    "    ofs = 0\n",
    "    Dx, H, Dy = (dimensions[0], dimensions[1], dimensions[2])\n",
    "\n",
    "    W1 = np.reshape(params[ofs:ofs+ Dx * H], (Dx, H))\n",
    "    ofs += Dx * H\n",
    "    b1 = np.reshape(params[ofs:ofs + H], (1, H))\n",
    "    ofs += H\n",
    "    W2 = np.reshape(params[ofs:ofs + H * Dy], (H, Dy))\n",
    "    ofs += H * Dy\n",
    "    b2 = np.reshape(params[ofs:ofs + Dy], (1, Dy))\n",
    "\n",
    "    ### YOUR CODE HERE: forward propagation\n",
    "    h = sigmoid(data.dot(W1) + b1)\n",
    "    pred = softmax(h.dot(W2) + b2)\n",
    "    cost = -np.sum(labels * np.log(pred))\n",
    "    ### END YOUR CODE\n",
    "    \n",
    "    ### YOUR CODE HERE: backward propagation\n",
    "    delta_0 = pred - labels\n",
    "    gradW2 = h.T.dot(delta_0)\n",
    "    gradb2 = np.sum(delta_0, axis = 0) # here, gradb2 is the product of a lign of 1's (gradient of b1 wrt to b1)\n",
    "                                         # and delta_0\n",
    "    delta = delta_0.dot(W2.T)*sigmoid_grad(h) # Useful for 2 following lines so we compute it \n",
    "                                              # only once\n",
    "    gradW1 = data.T.dot(delta)\n",
    "    gradb1 = np.sum(delta, axis = 0) # Same reason as for gradb2\n",
    "    \n",
    "    ### END YOUR CODE\n",
    "    \n",
    "    ### Stack gradients (do not modify)\n",
    "    grad = np.concatenate((gradW1.flatten(), gradb1.flatten(), \n",
    "        gradW2.flatten(), gradb2.flatten()))\n",
    "    \n",
    "    return cost, grad\n"
   ]
  },
  {
   "cell_type": "markdown",
   "metadata": {},
   "source": [
    "Let's pass a sanity check"
   ]
  },
  {
   "cell_type": "code",
   "execution_count": 33,
   "metadata": {
    "collapsed": false
   },
   "outputs": [
    {
     "name": "stdout",
     "output_type": "stream",
     "text": [
      "Running sanity check...\n",
      "Gradient check passed!\n"
     ]
    }
   ],
   "source": [
    "def sanity_check():\n",
    "    \"\"\"\n",
    "    Set up fake data and parameters for the neural network, and test using \n",
    "    gradcheck.\n",
    "    \"\"\"\n",
    "    print(\"Running sanity check...\")\n",
    "\n",
    "    N = 20\n",
    "    dimensions = [10, 5, 10]\n",
    "    data = np.random.randn(N, dimensions[0])   # each row will be a datum\n",
    "    labels = np.zeros((N, dimensions[2]))\n",
    "    for i in range(N):\n",
    "        labels[i,random.randint(0,dimensions[2]-1)] = 1\n",
    "    \n",
    "    params = np.random.randn((dimensions[0] + 1) * dimensions[1] + (\n",
    "        dimensions[1] + 1) * dimensions[2], )\n",
    "\n",
    "    gradcheck_naive(lambda params: forward_backward_prop(data, labels, params,\n",
    "        dimensions), params)\n",
    "sanity_check()"
   ]
  },
  {
   "cell_type": "code",
   "execution_count": null,
   "metadata": {
    "collapsed": true
   },
   "outputs": [],
   "source": []
  }
 ],
 "metadata": {
  "anaconda-cloud": {},
  "kernelspec": {
   "display_name": "Python [default]",
   "language": "python",
   "name": "python3"
  },
  "language_info": {
   "codemirror_mode": {
    "name": "ipython",
    "version": 3
   },
   "file_extension": ".py",
   "mimetype": "text/x-python",
   "name": "python",
   "nbconvert_exporter": "python",
   "pygments_lexer": "ipython3",
   "version": "3.5.2"
  }
 },
 "nbformat": 4,
 "nbformat_minor": 1
}
